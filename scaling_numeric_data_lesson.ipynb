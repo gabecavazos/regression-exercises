{
 "cells": [
  {
   "cell_type": "markdown",
   "id": "ae862288",
   "metadata": {},
   "source": [
    "<div class=\"alert alert-block alert-info\">\n",
    "    \n",
    "### Numeric Scaling \n",
    "\n",
    "#### Min-Max Scaling \n",
    "\n",
    "Min-Max scaling works by rescaling our data such that all values are within a given range, usually 0 to 1. \n",
    "\n",
    "The formula is as follows: \n",
    "\n",
    "$$X_{scaled} = \\frac{X - X_{min}}{X_{max}-X_{min}}$$ \n",
    "\n",
    "#### Standardization \n",
    "\n",
    "Standardization works by rescaling our data such that the mean of the data is 0 and the standard deviation is 1. \n",
    "\n",
    "The formula is as follows: \n",
    "\n",
    "$$X_{scaled} = \\frac{X - \\mu}{\\sigma} $$ \n",
    "\n",
    "##### Note \n",
    "\n",
    "- Min-Max Scaling is sensitive to outliers as it is based on the range of values. \n",
    "- Standardization is not affected by outliers as it is based on the mean and standard deviation of the data. \n",
    "\n",
    "</div>\n",
    "## Feature Selection \n",
    "\n",
    "Feature selection is the process of selecting a subset of the most relevant features to use in the building of a machine learning model. This can be done in both a supervised and unsupervised way. \n",
    "\n",
    "<div class=\"alert alert"
   ]
  },
  {
   "cell_type": "markdown",
   "id": "c08e689f",
   "metadata": {},
   "source": [
    "[Course Content](https://ds.codeup.com/regression/split-and-scale/)\n",
    "\n",
    "**Objective:** Transform data to produce values that:\n",
    "\n",
    "- have a desired range\n",
    "- follow a desired distribution\n",
    "\n",
    "\n",
    "**Purpose:** Appropriately scaled data enhances the performance of various machine learning algorithms. "
   ]
  },
  {
   "cell_type": "markdown",
   "id": "31751a17",
   "metadata": {},
   "source": [
    "<div class=\"alert alert-block alert-success\">\n",
    "    \n",
    "### Why scale data?\n"
   ]
  },
  {
   "cell_type": "markdown",
   "id": "2ee5369b",
   "metadata": {},
   "source": [
    "Scaling data addresses issues associated with varying magnitudes across features.\n",
    "\n",
    "Differences in magnitude can affect the performance of the underlying algorithms used to train a model. \n",
    "\n",
    "   - E.g. A single feature dominates and other features are not given influence\n",
    "    \n",
    "\n",
    "If values are of a comparable scale, computation is simplified and the model may have better performance. \n"
   ]
  },
  {
   "cell_type": "markdown",
   "id": "4f23f44b",
   "metadata": {},
   "source": [
    "<div class=\"alert alert-block alert-info\">\n",
    "    \n",
    "### Which machine learning algorithms should use scaled features?"
   ]
  },
  {
   "cell_type": "markdown",
   "id": "cf7a6e07",
   "metadata": {},
   "source": [
    "Certain ML algorithms either require that data be of comparable scale or perform better when it is.\n",
    "\n",
    "- Distance-based calculations (e.g. KNN or SVM)\n",
    "- Linear and logistic regression \n",
    "- Dimensional reduction (e.g. Principal Components Analysis)\n",
    "- Neural networks\n",
    "\n",
    "Collectively, this is implemented using the `sklearn preprocessing` [package](https://scikit-learn.org/stable/modules/preprocessing.html#preprocessing-scaler).\n"
   ]
  },
  {
   "cell_type": "markdown",
   "id": "1ec95a65",
   "metadata": {},
   "source": [
    "<div class=\"alert alert-block alert-success\">\n",
    "\n",
    "### Terminology \n"
   ]
  },
  {
   "cell_type": "markdown",
   "id": "492eefd4",
   "metadata": {},
   "source": [
    "\n",
    "**Scale**\n",
    "\n",
    "  - Adjusts the range of values\n",
    "  - Preserves distribution of the values\n",
    "\n",
    "**Standardize**\n",
    "\n",
    "  - Adjusts values to have a standard deviation of 1 and mean of 0.\n",
    "   \n",
    "**Normalize**\n",
    "\n",
    "  - Is often used to refer to scaling and standardization\n",
    "  \n",
    "  \n",
    "  - Important: May refer to transforming to the **unit norm** with [normalize.](https://scikit-learn.org/stable/modules/generated/sklearn.preprocessing.normalize.html)\n",
    "\n",
    "    - Applied to an entire row of values\n",
    "    - The sum of the squares of the values is equal to 0\n",
    "      \n",
    "    \n",
    "  "
   ]
  },
  {
   "cell_type": "markdown",
   "id": "47446af0",
   "metadata": {},
   "source": [
    "<div class=\"alert alert-block alert-info\">\n",
    "\n",
    "### Scaling within the Pipeline\n"
   ]
  },
  {
   "cell_type": "markdown",
   "id": "de7ef89f",
   "metadata": {},
   "source": [
    "**Data preparation:**\n",
    "\n",
    "- Transforming data using scaling, standardization, or normalization is conducted during the preparation of the data. \n",
    "\n",
    "\n",
    "- Exploration should be performed with unaltered data. \n",
    "\n",
    "\n",
    "- Statistical tests can generally be performed with unaltered data.\n",
    "\n",
    "\n",
    "- Scaling should be applied post-splitting\n",
    "\n",
    "\n",
    "- Units of measurement should be interpreted with unaltered data.\n",
    "\n",
    "\n",
    "**Recommendations:**\n",
    "\n",
    "- Retain both the altered and unaltered data for use throughout your work. \n",
    "\n",
    "\n",
    "- Create functions which will take data and perform a transformation for use in data preparation. \n"
   ]
  },
  {
   "cell_type": "markdown",
   "id": "4a46100a",
   "metadata": {},
   "source": [
    "<div class=\"alert alert-block alert-success\">\n",
    "    \n",
    "### How are features scaled?"
   ]
  },
  {
   "cell_type": "markdown",
   "id": "8db13dc6",
   "metadata": {},
   "source": [
    "Computing and applying various statistics from the data set:\n",
    "    \n",
    "   - minimum\n",
    "   - maximum\n",
    "   - range \n",
    "   - mean\n",
    "   - quantiles\n",
    "   - standard deviation\n",
    "    \n",
    "**Note:** If these values are not known, scaling may not be useful. \n",
    "\n",
    "\n",
    "Features are scaled *independently*. Create and apply a scaler for separate features."
   ]
  },
  {
   "cell_type": "markdown",
   "id": "ffc234b9",
   "metadata": {},
   "source": [
    "<div class=\"alert alert-block alert-info\">\n",
    "\n",
    "### Demonstrating the scaling process"
   ]
  },
  {
   "cell_type": "markdown",
   "id": "8627ac39",
   "metadata": {},
   "source": [
    "\n",
    "    1. Generate random data with numpy\n",
    "    2. Visualize the data\n",
    "    3. Split the data\n",
    "    4. Apply a scaling function\n",
    "    5. Visualize the transformed data\n"
   ]
  },
  {
   "cell_type": "code",
   "execution_count": 5,
   "id": "de060b82",
   "metadata": {},
   "outputs": [],
   "source": [
    "#### Libraries \n",
    "\n",
    "import matplotlib.pyplot as plt\n",
    "import numpy as np\n",
    "from scipy import stats\n",
    "import sklearn.preprocessing\n",
    "from sklearn.model_selection import train_test_split\n",
    "import pandas as pd\n",
    "%matplotlib widget\n",
    "np.random.seed(123)"
   ]
  },
  {
   "cell_type": "markdown",
   "id": "04010398",
   "metadata": {},
   "source": [
    "<div class=\"alert alert-block alert-success\">\n",
    "    \n",
    "### Demonstration of MinMax Scaler"
   ]
  },
  {
   "cell_type": "markdown",
   "id": "c6d0b165",
   "metadata": {},
   "source": [
    "---\n",
    "\n",
    "### 1. Generate and plot data"
   ]
  },
  {
   "cell_type": "code",
   "execution_count": 2,
   "id": "090f3b47",
   "metadata": {},
   "outputs": [
    {
     "name": "stdout",
     "output_type": "stream",
     "text": [
      "Here is a histogram of the dataset we will be working with.\n"
     ]
    },
    {
     "data": {
      "application/vnd.jupyter.widget-view+json": {
       "model_id": "50baf2aab3664ab38fde56a1e2a14012",
       "version_major": 2,
       "version_minor": 0
      },
      "image/png": "[encoded data removed]",
      "text/html": [
       "\n",
       "            <div style=\"display: inline-block;\">\n",
       "                <div class=\"jupyter-widgets widget-label\" style=\"text-align: center;\">\n",
       "                    Figure\n",
       "                </div>\n",
       "                <img src='data:image/png;base64,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' width=640.0/>\n",
       "            </div>\n",
       "        "
      ],
      "text/plain": [
       "Canvas(toolbar=Toolbar(toolitems=[('Home', 'Reset original view', 'home', 'home'), ('Back', 'Back to previous …"
      ]
     },
     "metadata": {},
     "output_type": "display_data"
    }
   ],
   "source": [
    "x = stats.skewnorm(7).rvs(1500) * 10 + 100\n",
    "x = x.reshape(-1, 1)\n",
    "\n",
    "plt.hist(x, bins = 25, ec = 'black')\n",
    "print('Here is a histogram of the dataset we will be working with.')"
   ]
  },
  {
   "cell_type": "code",
   "execution_count": 4,
   "id": "017e186a-6f14-4577-a479-1832b2cbd795",
   "metadata": {},
   "outputs": [],
   "source": []
  },
  {
   "cell_type": "markdown",
   "id": "f0df4dff",
   "metadata": {},
   "source": [
    "### 2. Split the dataset into train, test, and validate\n"
   ]
  },
  {
   "cell_type": "code",
   "execution_count": 3,
   "id": "e502a188",
   "metadata": {},
   "outputs": [],
   "source": [
    "x_train_and_validate, x_test = train_test_split(x, random_state=123)\n",
    "\n",
    "x_train, x_validate = train_test_split(x_train_and_validate)"
   ]
  },
  {
   "cell_type": "markdown",
   "id": "57ced9be",
   "metadata": {},
   "source": [
    "### 3. Create a MinMaxScaler object and apply it to the data"
   ]
  },
  {
   "cell_type": "code",
   "execution_count": 4,
   "id": "080aac19",
   "metadata": {},
   "outputs": [],
   "source": [
    "scaler = sklearn.preprocessing.MinMaxScaler()\n",
    "# Note that we only call .fit with the training data,\n",
    "# but we use .transform to apply the scaling to all the data splits.\n",
    "scaler.fit(x_train)\n",
    "\n",
    "\n",
    "### Apply to train, validate, and test\n",
    "x_train_scaled = scaler.transform(x_train)\n",
    "x_validate_scaled = scaler.transform(x_validate)\n",
    "x_test_scaled = scaler.transform(x_test)\n"
   ]
  },
  {
   "cell_type": "markdown",
   "id": "5279496e",
   "metadata": {},
   "source": [
    "### 4. Visualize the data"
   ]
  },
  {
   "cell_type": "code",
   "execution_count": 5,
   "id": "a9c8066a",
   "metadata": {},
   "outputs": [
    {
     "data": {
      "image/png": "[encoded data removed]",
      "text/plain": [
       "<Figure size 1300x600 with 2 Axes>"
      ]
     },
     "metadata": {},
     "output_type": "display_data"
    }
   ],
   "source": [
    "plt.figure(figsize=(13, 6))\n",
    "plt.subplot(121)\n",
    "plt.hist(x_train, bins=25, ec='black')\n",
    "plt.title('Original')\n",
    "plt.subplot(122)\n",
    "plt.hist(x_train_scaled, bins=25, ec='black')\n",
    "plt.title('Scaled')\n",
    "plt.show()"
   ]
  },
  {
   "cell_type": "markdown",
   "id": "580fdb20",
   "metadata": {},
   "source": [
    "### Fitting and transforming"
   ]
  },
  {
   "cell_type": "markdown",
   "id": "397a25ad",
   "metadata": {},
   "source": [
    "`fit`  Produces the parameters needed to perform the transformation\n",
    "\n",
    "   - Conducted using the training portion of the dataset \n",
    "    \n",
    "`transform` Applies the scaling to the dataset"
   ]
  },
  {
   "cell_type": "markdown",
   "id": "0caeb64f",
   "metadata": {},
   "source": [
    "### Linear versus Non-linear\n",
    "\n",
    "**Linear:** Preserves underlying distribution\n",
    "     \n",
    "\n",
    "**Non-linear:** Alters distribution of data"
   ]
  },
  {
   "cell_type": "markdown",
   "id": "2eb04492",
   "metadata": {},
   "source": [
    "---\n",
    "<div class=\"alert alert-block alert-success\">\n",
    "\n",
    "### SciKit Learn Transformation Methods"
   ]
  },
  {
   "cell_type": "markdown",
   "id": "0d9896b2",
   "metadata": {},
   "source": [
    "#### `MinMaxScaler`\n",
    "\n",
    "[Documentation](https://scikit-learn.org/stable/modules/generated/sklearn.preprocessing.MinMaxScaler.html)\n",
    "\n",
    "- Scales features to produce a desired range\n",
    "- Range can be specified in the function \n",
    "\n",
    "\n",
    "\n",
    "$$ x' = \\dfrac{x - min(x)}{max(x) - min(x)}$$"
   ]
  },
  {
   "cell_type": "markdown",
   "id": "5499895a",
   "metadata": {},
   "source": [
    "#### `StandardScaler`\n",
    "\n",
    "[Documentation](https://scikit-learn.org/stable/modules/generated/sklearn.preprocessing.StandardScaler.html)\n",
    "\n",
    "- Scales features to produce a desired distribution \n",
    "- Makes the standard deviation to 1\n",
    "- Centers the values aronud a mean of 0\n",
    "\n",
    "\n",
    "$$x' =  \\dfrac{x - \\bar{x}}{\\sigma_{x}}$$"
   ]
  },
  {
   "cell_type": "markdown",
   "id": "0aa44d66",
   "metadata": {},
   "source": [
    "#### `RobustScaler`\n",
    "\n",
    "[Documentation](https://scikit-learn.org/stable/modules/generated/sklearn.preprocessing.RobustScaler.html)\n",
    "\n",
    "- Scales features using the IQR \n",
    "- Reduces impact of outliers\n",
    "\n",
    "$$x' =  \\dfrac{x - med(x)}{IQR_{x}}$$"
   ]
  },
  {
   "cell_type": "markdown",
   "id": "9bdbdb97",
   "metadata": {},
   "source": [
    "#### `QuantileTransformer`\n",
    "\n",
    "[Documentation](https://scikit-learn.org/stable/modules/generated/sklearn.preprocessing.QuantileTransformer.html)\n",
    "- Uses a data set's quantile values \n",
    "- Reduces impact of outliers\n"
   ]
  },
  {
   "cell_type": "markdown",
   "id": "afc170e7",
   "metadata": {},
   "source": [
    "### Demonstration of Standard Scaler"
   ]
  },
  {
   "cell_type": "code",
   "execution_count": null,
   "id": "27490283",
   "metadata": {
    "scrolled": true
   },
   "outputs": [],
   "source": [
    "scaler = sklearn.preprocessing.StandardScaler()\n",
    "# Note that we only call .fit with the training data,\n",
    "# but we use .transform to apply the scaling to all the data splits.\n",
    "scaler.fit(x_train)\n",
    "\n",
    "x_train_scaled = scaler.transform(x_train)\n",
    "x_validate_scaled = scaler.transform(x_validate)\n",
    "x_test_scaled = scaler.transform(x_test)\n",
    "\n",
    "plt.figure(figsize=(13, 6))\n",
    "plt.subplot(121)\n",
    "plt.hist(x_train, bins=25, ec='black')\n",
    "plt.title('Original')\n",
    "plt.subplot(122)\n",
    "plt.hist(x_train_scaled, bins=25, ec='black')\n",
    "plt.title('Scaled')\n",
    "plt.show()"
   ]
  },
  {
   "cell_type": "markdown",
   "id": "95dc0907",
   "metadata": {},
   "source": [
    "### Demonstration of Robust Scaler"
   ]
  },
  {
   "cell_type": "code",
   "execution_count": null,
   "id": "4475a1db",
   "metadata": {},
   "outputs": [],
   "source": [
    "scaler = sklearn.preprocessing.RobustScaler()\n",
    "# Note that we only call .fit with the training data,\n",
    "# but we use .transform to apply the scaling to all the data splits.\n",
    "scaler.fit(x_train)\n",
    "\n",
    "x_train_scaled = scaler.transform(x_train)\n",
    "x_validate_scaled = scaler.transform(x_validate)\n",
    "x_test_scaled = scaler.transform(x_test)\n",
    "\n",
    "plt.figure(figsize=(13, 6))\n",
    "plt.subplot(121)\n",
    "plt.hist(x_train, bins=25, ec='black')\n",
    "plt.title('Original')\n",
    "plt.subplot(122)\n",
    "plt.hist(x_train_scaled, bins=25, ec='black')\n",
    "plt.title('Scaled')\n",
    "plt.show()"
   ]
  },
  {
   "cell_type": "markdown",
   "id": "d1184a1a",
   "metadata": {},
   "source": [
    "### Exercise Set"
   ]
  },
  {
   "cell_type": "markdown",
   "id": "19a0e448",
   "metadata": {},
   "source": [
    "\n",
    "Notebook: `scaling.ipynb`\n",
    "\n",
    "\n",
    "- Apply various transformations to data you have prepared\n",
    "- Observe the differences in the transformed data\n",
    "- Create preparation functions to transform data"
   ]
  }
 ],
 "metadata": {
  "kernelspec": {
   "display_name": "Python 3 (ipykernel)",
   "language": "python",
   "name": "python3"
  },
  "language_info": {
   "codemirror_mode": {
    "name": "ipython",
    "version": 3
   },
   "file_extension": ".py",
   "mimetype": "text/x-python",
   "name": "python",
   "nbconvert_exporter": "python",
   "pygments_lexer": "ipython3",
   "version": "3.9.13"
  }
 },
 "nbformat": 4,
 "nbformat_minor": 5
}
