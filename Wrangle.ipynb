{
 "cells": [
  {
   "cell_type": "code",
   "execution_count": 80,
   "id": "499394ff-f5de-4b91-8973-9a5746008682",
   "metadata": {},
   "outputs": [],
   "source": [
    "import env\n",
    "import os\n",
    "import pandas as pd\n",
    "from sklearn.model_selection import train_test_split"
   ]
  },
  {
   "cell_type": "markdown",
   "id": "a2c6c3e9-4d71-454c-b7d4-791224860bb8",
   "metadata": {},
   "source": [
    "# get data"
   ]
  },
  {
   "cell_type": "code",
   "execution_count": 17,
   "id": "4afe1586-17be-4690-b6fb-7063cc56247c",
   "metadata": {},
   "outputs": [],
   "source": [
    "query = '''select bedroomcnt,bathroomcnt, calculatedfinishedsquarefeet, taxvaluedollarcnt, yearbuilt, taxamount, fips, propertylandusetypeid from properties_2017\n",
    "WHERE propertylandusetypeid = 261;'''"
   ]
  },
  {
   "cell_type": "code",
   "execution_count": 10,
   "id": "22e06211-9901-4325-848f-ae6ecf0d8283",
   "metadata": {},
   "outputs": [],
   "source": [
    "def get_connection(db, user=env.user, host=env.host, password=env.password):\n",
    "    return f'mysql+pymysql://{user}:{password}@{host}/{db}'"
   ]
  },
  {
   "cell_type": "code",
   "execution_count": 12,
   "id": "969d2784-ea31-4050-b626-7402d4a5ea94",
   "metadata": {},
   "outputs": [],
   "source": [
    "url = get_connection('zillow')"
   ]
  },
  {
   "cell_type": "code",
   "execution_count": 63,
   "id": "a893cf6d-e7f9-4352-8f48-0004defe0e20",
   "metadata": {},
   "outputs": [],
   "source": [
    "prop17 = pd.read_sql(query,url)"
   ]
  },
  {
   "cell_type": "code",
   "execution_count": 64,
   "id": "41451b0d-2d54-45a8-a2cc-5ce88faee89d",
   "metadata": {},
   "outputs": [
    {
     "data": {
      "text/html": [
       "<div>\n",
       "<style scoped>\n",
       "    .dataframe tbody tr th:only-of-type {\n",
       "        vertical-align: middle;\n",
       "    }\n",
       "\n",
       "    .dataframe tbody tr th {\n",
       "        vertical-align: top;\n",
       "    }\n",
       "\n",
       "    .dataframe thead th {\n",
       "        text-align: right;\n",
       "    }\n",
       "</style>\n",
       "<table border=\"1\" class=\"dataframe\">\n",
       "  <thead>\n",
       "    <tr style=\"text-align: right;\">\n",
       "      <th></th>\n",
       "      <th>bedroomcnt</th>\n",
       "      <th>bathroomcnt</th>\n",
       "      <th>calculatedfinishedsquarefeet</th>\n",
       "      <th>taxvaluedollarcnt</th>\n",
       "      <th>yearbuilt</th>\n",
       "      <th>taxamount</th>\n",
       "      <th>fips</th>\n",
       "      <th>propertylandusetypeid</th>\n",
       "    </tr>\n",
       "  </thead>\n",
       "  <tbody>\n",
       "    <tr>\n",
       "      <th>0</th>\n",
       "      <td>0.0</td>\n",
       "      <td>0.0</td>\n",
       "      <td>NaN</td>\n",
       "      <td>27516.0</td>\n",
       "      <td>NaN</td>\n",
       "      <td>NaN</td>\n",
       "      <td>6037.0</td>\n",
       "      <td>261.0</td>\n",
       "    </tr>\n",
       "    <tr>\n",
       "      <th>1</th>\n",
       "      <td>0.0</td>\n",
       "      <td>0.0</td>\n",
       "      <td>NaN</td>\n",
       "      <td>10.0</td>\n",
       "      <td>NaN</td>\n",
       "      <td>NaN</td>\n",
       "      <td>6037.0</td>\n",
       "      <td>261.0</td>\n",
       "    </tr>\n",
       "    <tr>\n",
       "      <th>2</th>\n",
       "      <td>0.0</td>\n",
       "      <td>0.0</td>\n",
       "      <td>NaN</td>\n",
       "      <td>10.0</td>\n",
       "      <td>NaN</td>\n",
       "      <td>NaN</td>\n",
       "      <td>6037.0</td>\n",
       "      <td>261.0</td>\n",
       "    </tr>\n",
       "    <tr>\n",
       "      <th>3</th>\n",
       "      <td>0.0</td>\n",
       "      <td>0.0</td>\n",
       "      <td>NaN</td>\n",
       "      <td>2108.0</td>\n",
       "      <td>NaN</td>\n",
       "      <td>174.21</td>\n",
       "      <td>6037.0</td>\n",
       "      <td>261.0</td>\n",
       "    </tr>\n",
       "    <tr>\n",
       "      <th>4</th>\n",
       "      <td>4.0</td>\n",
       "      <td>2.0</td>\n",
       "      <td>3633.0</td>\n",
       "      <td>296425.0</td>\n",
       "      <td>2005.0</td>\n",
       "      <td>6941.39</td>\n",
       "      <td>6037.0</td>\n",
       "      <td>261.0</td>\n",
       "    </tr>\n",
       "  </tbody>\n",
       "</table>\n",
       "</div>"
      ],
      "text/plain": [
       "   bedroomcnt  bathroomcnt  calculatedfinishedsquarefeet  taxvaluedollarcnt  \\\n",
       "0         0.0          0.0                           NaN            27516.0   \n",
       "1         0.0          0.0                           NaN               10.0   \n",
       "2         0.0          0.0                           NaN               10.0   \n",
       "3         0.0          0.0                           NaN             2108.0   \n",
       "4         4.0          2.0                        3633.0           296425.0   \n",
       "\n",
       "   yearbuilt  taxamount    fips  propertylandusetypeid  \n",
       "0        NaN        NaN  6037.0                  261.0  \n",
       "1        NaN        NaN  6037.0                  261.0  \n",
       "2        NaN        NaN  6037.0                  261.0  \n",
       "3        NaN     174.21  6037.0                  261.0  \n",
       "4     2005.0    6941.39  6037.0                  261.0  "
      ]
     },
     "execution_count": 64,
     "metadata": {},
     "output_type": "execute_result"
    }
   ],
   "source": [
    "prop17.head()"
   ]
  },
  {
   "cell_type": "markdown",
   "id": "99f2581b-a3c4-4b9a-b35e-2a414996d9e6",
   "metadata": {},
   "source": [
    "# cache data"
   ]
  },
  {
   "cell_type": "code",
   "execution_count": 23,
   "id": "4c530b8c-0e41-4149-a35e-fa3bc1eb96be",
   "metadata": {},
   "outputs": [],
   "source": [
    "def cache_dataframe(df, file_name):\n",
    "    '''\n",
    "    Cache a Pandas DataFrame as a CSV file in the current working directory\n",
    "    \n",
    "    Parameters:\n",
    "    df (pandas.DataFrame): The DataFrame to cache\n",
    "    file_name (str): The name of the CSV file\n",
    "    \n",
    "    Returns:\n",
    "    None\n",
    "    '''\n",
    "    \n",
    "    df.to_csv(file_name, index=False)"
   ]
  },
  {
   "cell_type": "code",
   "execution_count": 24,
   "id": "c52dc3ba-6c9d-46bd-9ffa-39386e8248b5",
   "metadata": {},
   "outputs": [],
   "source": [
    "cache_dataframe(prop17,'prop17.csv')"
   ]
  },
  {
   "cell_type": "markdown",
   "id": "1ff21c4b-2037-4b14-b57a-b0d06523e2f2",
   "metadata": {},
   "source": [
    "# check it out"
   ]
  },
  {
   "cell_type": "code",
   "execution_count": 67,
   "id": "fb93ebc1-8f40-48e2-a422-36c291ce271b",
   "metadata": {},
   "outputs": [
    {
     "data": {
      "text/plain": [
       "(2152863, 8)"
      ]
     },
     "execution_count": 67,
     "metadata": {},
     "output_type": "execute_result"
    }
   ],
   "source": [
    "prop17.shape"
   ]
  },
  {
   "cell_type": "code",
   "execution_count": 62,
   "id": "9bb99a7a-82c9-4a81-90c8-0b6c4e252c78",
   "metadata": {},
   "outputs": [
    {
     "data": {
      "text/plain": [
       "dtype('int32')"
      ]
     },
     "execution_count": 62,
     "metadata": {},
     "output_type": "execute_result"
    }
   ],
   "source": [
    "prop17.dtypes"
   ]
  },
  {
   "cell_type": "code",
   "execution_count": 29,
   "id": "f407e1f3-98be-4297-89a2-ef33759d151b",
   "metadata": {},
   "outputs": [
    {
     "data": {
      "text/html": [
       "<div>\n",
       "<style scoped>\n",
       "    .dataframe tbody tr th:only-of-type {\n",
       "        vertical-align: middle;\n",
       "    }\n",
       "\n",
       "    .dataframe tbody tr th {\n",
       "        vertical-align: top;\n",
       "    }\n",
       "\n",
       "    .dataframe thead th {\n",
       "        text-align: right;\n",
       "    }\n",
       "</style>\n",
       "<table border=\"1\" class=\"dataframe\">\n",
       "  <thead>\n",
       "    <tr style=\"text-align: right;\">\n",
       "      <th></th>\n",
       "      <th>bedroomcnt</th>\n",
       "      <th>bathroomcnt</th>\n",
       "      <th>calculatedfinishedsquarefeet</th>\n",
       "      <th>taxvaluedollarcnt</th>\n",
       "      <th>yearbuilt</th>\n",
       "      <th>taxamount</th>\n",
       "      <th>fips</th>\n",
       "      <th>propertylandusetypeid</th>\n",
       "    </tr>\n",
       "  </thead>\n",
       "  <tbody>\n",
       "    <tr>\n",
       "      <th>0</th>\n",
       "      <td>0.0</td>\n",
       "      <td>0.0</td>\n",
       "      <td>NaN</td>\n",
       "      <td>27516.0</td>\n",
       "      <td>NaN</td>\n",
       "      <td>NaN</td>\n",
       "      <td>6037.0</td>\n",
       "      <td>261.0</td>\n",
       "    </tr>\n",
       "    <tr>\n",
       "      <th>1</th>\n",
       "      <td>0.0</td>\n",
       "      <td>0.0</td>\n",
       "      <td>NaN</td>\n",
       "      <td>10.0</td>\n",
       "      <td>NaN</td>\n",
       "      <td>NaN</td>\n",
       "      <td>6037.0</td>\n",
       "      <td>261.0</td>\n",
       "    </tr>\n",
       "    <tr>\n",
       "      <th>2</th>\n",
       "      <td>0.0</td>\n",
       "      <td>0.0</td>\n",
       "      <td>NaN</td>\n",
       "      <td>10.0</td>\n",
       "      <td>NaN</td>\n",
       "      <td>NaN</td>\n",
       "      <td>6037.0</td>\n",
       "      <td>261.0</td>\n",
       "    </tr>\n",
       "    <tr>\n",
       "      <th>3</th>\n",
       "      <td>0.0</td>\n",
       "      <td>0.0</td>\n",
       "      <td>NaN</td>\n",
       "      <td>2108.0</td>\n",
       "      <td>NaN</td>\n",
       "      <td>174.21</td>\n",
       "      <td>6037.0</td>\n",
       "      <td>261.0</td>\n",
       "    </tr>\n",
       "    <tr>\n",
       "      <th>4</th>\n",
       "      <td>4.0</td>\n",
       "      <td>2.0</td>\n",
       "      <td>3633.0</td>\n",
       "      <td>296425.0</td>\n",
       "      <td>2005.0</td>\n",
       "      <td>6941.39</td>\n",
       "      <td>6037.0</td>\n",
       "      <td>261.0</td>\n",
       "    </tr>\n",
       "  </tbody>\n",
       "</table>\n",
       "</div>"
      ],
      "text/plain": [
       "   bedroomcnt  bathroomcnt  calculatedfinishedsquarefeet  taxvaluedollarcnt  \\\n",
       "0         0.0          0.0                           NaN            27516.0   \n",
       "1         0.0          0.0                           NaN               10.0   \n",
       "2         0.0          0.0                           NaN               10.0   \n",
       "3         0.0          0.0                           NaN             2108.0   \n",
       "4         4.0          2.0                        3633.0           296425.0   \n",
       "\n",
       "   yearbuilt  taxamount    fips  propertylandusetypeid  \n",
       "0        NaN        NaN  6037.0                  261.0  \n",
       "1        NaN        NaN  6037.0                  261.0  \n",
       "2        NaN        NaN  6037.0                  261.0  \n",
       "3        NaN     174.21  6037.0                  261.0  \n",
       "4     2005.0    6941.39  6037.0                  261.0  "
      ]
     },
     "execution_count": 29,
     "metadata": {},
     "output_type": "execute_result"
    }
   ],
   "source": [
    "prop17.head()"
   ]
  },
  {
   "cell_type": "code",
   "execution_count": 68,
   "id": "f4e74283-0c6e-4230-b462-862dfe0df411",
   "metadata": {},
   "outputs": [
    {
     "data": {
      "text/plain": [
       "bedroomcnt                        11\n",
       "bathroomcnt                       11\n",
       "calculatedfinishedsquarefeet    8484\n",
       "taxvaluedollarcnt                493\n",
       "yearbuilt                       9337\n",
       "taxamount                       4442\n",
       "fips                               0\n",
       "propertylandusetypeid              0\n",
       "dtype: int64"
      ]
     },
     "execution_count": 68,
     "metadata": {},
     "output_type": "execute_result"
    }
   ],
   "source": [
    "prop17.isna().sum()"
   ]
  },
  {
   "cell_type": "code",
   "execution_count": 72,
   "id": "66fa0a12-3a1f-4a58-a3ff-693024cec22d",
   "metadata": {},
   "outputs": [
    {
     "data": {
      "text/plain": [
       "True    2140235\n",
       "Name: yearbuilt, dtype: int64"
      ]
     },
     "execution_count": 72,
     "metadata": {},
     "output_type": "execute_result"
    }
   ],
   "source": [
    "(prop17.yearbuilt == prop17.yearbuilt.astype(int)).value_counts()"
   ]
  },
  {
   "cell_type": "code",
   "execution_count": 73,
   "id": "ed7ce25d-3991-44c8-af22-54191df3c812",
   "metadata": {},
   "outputs": [
    {
     "data": {
      "text/plain": [
       "True    2140235\n",
       "Name: calculatedfinishedsquarefeet, dtype: int64"
      ]
     },
     "execution_count": 73,
     "metadata": {},
     "output_type": "execute_result"
    }
   ],
   "source": [
    "(prop17.calculatedfinishedsquarefeet == prop17.calculatedfinishedsquarefeet.astype(int)).value_counts()"
   ]
  },
  {
   "cell_type": "code",
   "execution_count": 74,
   "id": "11477fe3-b625-4cbf-8727-cf027d8782f2",
   "metadata": {},
   "outputs": [
    {
     "data": {
      "text/plain": [
       "True    2140235\n",
       "Name: taxvaluedollarcnt, dtype: int64"
      ]
     },
     "execution_count": 74,
     "metadata": {},
     "output_type": "execute_result"
    }
   ],
   "source": [
    "(prop17.taxvaluedollarcnt == prop17.taxvaluedollarcnt.astype(int)).value_counts()"
   ]
  },
  {
   "cell_type": "code",
   "execution_count": 75,
   "id": "83d5385a-312b-429a-9b85-bd52b3e6bba2",
   "metadata": {},
   "outputs": [
    {
     "data": {
      "text/plain": [
       "False    2111620\n",
       "True       28615\n",
       "Name: taxamount, dtype: int64"
      ]
     },
     "execution_count": 75,
     "metadata": {},
     "output_type": "execute_result"
    }
   ],
   "source": [
    "(prop17.taxamount == prop17.taxamount.astype(int)).value_counts()"
   ]
  },
  {
   "cell_type": "code",
   "execution_count": 76,
   "id": "277b5e5f-9170-4ef5-880f-808477fc0a8e",
   "metadata": {},
   "outputs": [
    {
     "data": {
      "text/plain": [
       "True    2140235\n",
       "Name: fips, dtype: int64"
      ]
     },
     "execution_count": 76,
     "metadata": {},
     "output_type": "execute_result"
    }
   ],
   "source": [
    "(prop17.fips == prop17.fips.astype(int)).value_counts()"
   ]
  },
  {
   "cell_type": "markdown",
   "id": "af340803-521b-4786-bcf7-7dc0faac6af8",
   "metadata": {},
   "source": [
    "# clean data"
   ]
  },
  {
   "cell_type": "code",
   "execution_count": 70,
   "id": "c403a6ef-833f-4ad5-8d6a-e23616e7bf81",
   "metadata": {},
   "outputs": [],
   "source": [
    "prop17 = prop17.drop(columns= 'propertylandusetypeid')"
   ]
  },
  {
   "cell_type": "code",
   "execution_count": 71,
   "id": "395de5b8-a500-4035-b76d-4caa7ad80ed6",
   "metadata": {},
   "outputs": [],
   "source": [
    "prop17 = prop17.dropna()"
   ]
  },
  {
   "cell_type": "code",
   "execution_count": 78,
   "id": "8bc0ce1b-4a6d-4a85-9ad7-d7823a2efad7",
   "metadata": {},
   "outputs": [],
   "source": [
    "prop17['yearbuilt'] = prop17.yearbuilt.astype(int)\n",
    "prop17['calculatedfinishedsquarefeet'] = prop17.yearbuilt.astype(int)\n",
    "prop17['taxvaluedollarcnt'] = prop17.taxvaluedollarcnt.astype(int)\n",
    "prop17['fips'] = prop17.fips.astype(int)"
   ]
  },
  {
   "cell_type": "code",
   "execution_count": null,
   "id": "990a5a35-d747-464f-a600-84166cdbf1de",
   "metadata": {},
   "outputs": [],
   "source": [
    "prop17.shape"
   ]
  },
  {
   "cell_type": "code",
   "execution_count": 43,
   "id": "6905212c-b337-4bc2-8548-a14fb07f022e",
   "metadata": {},
   "outputs": [
    {
     "data": {
      "text/plain": [
       "0.9941343225277224"
      ]
     },
     "execution_count": 43,
     "metadata": {},
     "output_type": "execute_result"
    }
   ],
   "source": [
    "2140235/ 2152863"
   ]
  },
  {
   "cell_type": "code",
   "execution_count": 85,
   "id": "db56fb13-92b6-4964-bc45-c3d0b11ec51e",
   "metadata": {},
   "outputs": [],
   "source": [
    "def split_dataframe(df, train_size=0.6, val_size=0.2, test_size=0.2, random_state=None):\n",
    "    '''\n",
    "    Split a Pandas DataFrame into train, validation, and test sets\n",
    "\n",
    "    Parameters:\n",
    "    df (pandas.DataFrame): The DataFrame to split\n",
    "    train_size (float): The proportion of the data to use for training (default=0.6)\n",
    "    val_size (float): The proportion of the data to use for validation (default=0.2)\n",
    "    test_size (float): The proportion of the data to use for testing (default=0.2)\n",
    "    random_state (int): The random seed to use for the train/test split (default=None)\n",
    "\n",
    "    Returns:\n",
    "    train_df (pandas.DataFrame): The training set\n",
    "    val_df (pandas.DataFrame): The validation set\n",
    "    test_df (pandas.DataFrame): The test set\n",
    "    '''\n",
    "\n",
    "    # Split the data into train and test sets\n",
    "    train, test = train_test_split(df, test_size=test_size, random_state=random_state)\n",
    "\n",
    "    # Calculate the proportion of the original data to allocate to validation\n",
    "    val_prop = val_size / (train_size + val_size)\n",
    "\n",
    "    # Split the remaining data into train and validation sets\n",
    "    train, val = train_test_split(train, test_size=val_prop, random_state=random_state)\n",
    "\n",
    "    return train, val, test"
   ]
  },
  {
   "cell_type": "code",
   "execution_count": 87,
   "id": "3df04a11-fd41-4c81-bbeb-8101efccfe61",
   "metadata": {},
   "outputs": [],
   "source": [
    "train, val, test = split_dataframe(prop17,train_size=0.6, val_size=0.2, test_size=0.2, random_state=42)"
   ]
  },
  {
   "cell_type": "code",
   "execution_count": 88,
   "id": "06368a5d-ce67-4fb4-80ec-af2837719273",
   "metadata": {},
   "outputs": [
    {
     "data": {
      "text/html": [
       "<div>\n",
       "<style scoped>\n",
       "    .dataframe tbody tr th:only-of-type {\n",
       "        vertical-align: middle;\n",
       "    }\n",
       "\n",
       "    .dataframe tbody tr th {\n",
       "        vertical-align: top;\n",
       "    }\n",
       "\n",
       "    .dataframe thead th {\n",
       "        text-align: right;\n",
       "    }\n",
       "</style>\n",
       "<table border=\"1\" class=\"dataframe\">\n",
       "  <thead>\n",
       "    <tr style=\"text-align: right;\">\n",
       "      <th></th>\n",
       "      <th>bedroomcnt</th>\n",
       "      <th>bathroomcnt</th>\n",
       "      <th>calculatedfinishedsquarefeet</th>\n",
       "      <th>taxvaluedollarcnt</th>\n",
       "      <th>yearbuilt</th>\n",
       "      <th>taxamount</th>\n",
       "      <th>fips</th>\n",
       "    </tr>\n",
       "  </thead>\n",
       "  <tbody>\n",
       "    <tr>\n",
       "      <th>100475</th>\n",
       "      <td>3.0</td>\n",
       "      <td>2.0</td>\n",
       "      <td>1935</td>\n",
       "      <td>114686</td>\n",
       "      <td>1935</td>\n",
       "      <td>1536.35</td>\n",
       "      <td>6037</td>\n",
       "    </tr>\n",
       "    <tr>\n",
       "      <th>1891683</th>\n",
       "      <td>3.0</td>\n",
       "      <td>2.0</td>\n",
       "      <td>1962</td>\n",
       "      <td>226635</td>\n",
       "      <td>1962</td>\n",
       "      <td>2407.74</td>\n",
       "      <td>6059</td>\n",
       "    </tr>\n",
       "    <tr>\n",
       "      <th>985105</th>\n",
       "      <td>3.0</td>\n",
       "      <td>2.0</td>\n",
       "      <td>1950</td>\n",
       "      <td>538475</td>\n",
       "      <td>1950</td>\n",
       "      <td>6613.79</td>\n",
       "      <td>6037</td>\n",
       "    </tr>\n",
       "    <tr>\n",
       "      <th>119764</th>\n",
       "      <td>4.0</td>\n",
       "      <td>2.0</td>\n",
       "      <td>1955</td>\n",
       "      <td>95010</td>\n",
       "      <td>1955</td>\n",
       "      <td>1336.49</td>\n",
       "      <td>6037</td>\n",
       "    </tr>\n",
       "    <tr>\n",
       "      <th>388552</th>\n",
       "      <td>3.0</td>\n",
       "      <td>2.0</td>\n",
       "      <td>1954</td>\n",
       "      <td>580000</td>\n",
       "      <td>1954</td>\n",
       "      <td>6971.24</td>\n",
       "      <td>6037</td>\n",
       "    </tr>\n",
       "    <tr>\n",
       "      <th>...</th>\n",
       "      <td>...</td>\n",
       "      <td>...</td>\n",
       "      <td>...</td>\n",
       "      <td>...</td>\n",
       "      <td>...</td>\n",
       "      <td>...</td>\n",
       "      <td>...</td>\n",
       "    </tr>\n",
       "    <tr>\n",
       "      <th>109743</th>\n",
       "      <td>3.0</td>\n",
       "      <td>2.0</td>\n",
       "      <td>1959</td>\n",
       "      <td>49662</td>\n",
       "      <td>1959</td>\n",
       "      <td>1171.56</td>\n",
       "      <td>6037</td>\n",
       "    </tr>\n",
       "    <tr>\n",
       "      <th>1547574</th>\n",
       "      <td>3.0</td>\n",
       "      <td>1.0</td>\n",
       "      <td>1948</td>\n",
       "      <td>218641</td>\n",
       "      <td>1948</td>\n",
       "      <td>2706.94</td>\n",
       "      <td>6059</td>\n",
       "    </tr>\n",
       "    <tr>\n",
       "      <th>1804611</th>\n",
       "      <td>4.0</td>\n",
       "      <td>2.0</td>\n",
       "      <td>1955</td>\n",
       "      <td>304021</td>\n",
       "      <td>1955</td>\n",
       "      <td>3682.35</td>\n",
       "      <td>6037</td>\n",
       "    </tr>\n",
       "    <tr>\n",
       "      <th>37983</th>\n",
       "      <td>3.0</td>\n",
       "      <td>2.0</td>\n",
       "      <td>1950</td>\n",
       "      <td>777700</td>\n",
       "      <td>1950</td>\n",
       "      <td>9217.66</td>\n",
       "      <td>6037</td>\n",
       "    </tr>\n",
       "    <tr>\n",
       "      <th>97624</th>\n",
       "      <td>4.0</td>\n",
       "      <td>2.0</td>\n",
       "      <td>1978</td>\n",
       "      <td>327447</td>\n",
       "      <td>1978</td>\n",
       "      <td>3882.82</td>\n",
       "      <td>6111</td>\n",
       "    </tr>\n",
       "  </tbody>\n",
       "</table>\n",
       "<p>1284141 rows × 7 columns</p>\n",
       "</div>"
      ],
      "text/plain": [
       "         bedroomcnt  bathroomcnt  calculatedfinishedsquarefeet  \\\n",
       "100475          3.0          2.0                          1935   \n",
       "1891683         3.0          2.0                          1962   \n",
       "985105          3.0          2.0                          1950   \n",
       "119764          4.0          2.0                          1955   \n",
       "388552          3.0          2.0                          1954   \n",
       "...             ...          ...                           ...   \n",
       "109743          3.0          2.0                          1959   \n",
       "1547574         3.0          1.0                          1948   \n",
       "1804611         4.0          2.0                          1955   \n",
       "37983           3.0          2.0                          1950   \n",
       "97624           4.0          2.0                          1978   \n",
       "\n",
       "         taxvaluedollarcnt  yearbuilt  taxamount  fips  \n",
       "100475              114686       1935    1536.35  6037  \n",
       "1891683             226635       1962    2407.74  6059  \n",
       "985105              538475       1950    6613.79  6037  \n",
       "119764               95010       1955    1336.49  6037  \n",
       "388552              580000       1954    6971.24  6037  \n",
       "...                    ...        ...        ...   ...  \n",
       "109743               49662       1959    1171.56  6037  \n",
       "1547574             218641       1948    2706.94  6059  \n",
       "1804611             304021       1955    3682.35  6037  \n",
       "37983               777700       1950    9217.66  6037  \n",
       "97624               327447       1978    3882.82  6111  \n",
       "\n",
       "[1284141 rows x 7 columns]"
      ]
     },
     "execution_count": 88,
     "metadata": {},
     "output_type": "execute_result"
    }
   ],
   "source": [
    "train"
   ]
  },
  {
   "cell_type": "code",
   "execution_count": null,
   "id": "53f56b05-5bd5-403c-b172-7d6de05890fc",
   "metadata": {},
   "outputs": [],
   "source": []
  }
 ],
 "metadata": {
  "kernelspec": {
   "display_name": "Python 3 (ipykernel)",
   "language": "python",
   "name": "python3"
  },
  "language_info": {
   "codemirror_mode": {
    "name": "ipython",
    "version": 3
   },
   "file_extension": ".py",
   "mimetype": "text/x-python",
   "name": "python",
   "nbconvert_exporter": "python",
   "pygments_lexer": "ipython3",
   "version": "3.9.13"
  }
 },
 "nbformat": 4,
 "nbformat_minor": 5
}
