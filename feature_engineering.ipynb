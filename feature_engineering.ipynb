{
 "cells": [
  {
   "cell_type": "code",
   "execution_count": 34,
   "id": "44affd81-8fc4-42f5-88fe-92df53bdd1dd",
   "metadata": {},
   "outputs": [],
   "source": [
    "import numpy as np\n",
    "import pandas as pd\n",
    "from sklearn.feature_selection import SelectKBest, RFE, f_regression, SequentialFeatureSelector\n",
    "from pydataset import data\n",
    "import prepare\n",
    "from sklearn.linear_model import LinearRegression"
   ]
  },
  {
   "cell_type": "code",
   "execution_count": 6,
   "id": "945df2d7-f884-4ac6-9aec-7df766ed751e",
   "metadata": {},
   "outputs": [],
   "source": [
    "tips = data('tips')"
   ]
  },
  {
   "cell_type": "code",
   "execution_count": 57,
   "id": "424badfd-3a10-4640-831b-9793ac5dc9ce",
   "metadata": {},
   "outputs": [
    {
     "data": {
      "text/html": [
       "<div>\n",
       "<style scoped>\n",
       "    .dataframe tbody tr th:only-of-type {\n",
       "        vertical-align: middle;\n",
       "    }\n",
       "\n",
       "    .dataframe tbody tr th {\n",
       "        vertical-align: top;\n",
       "    }\n",
       "\n",
       "    .dataframe thead th {\n",
       "        text-align: right;\n",
       "    }\n",
       "</style>\n",
       "<table border=\"1\" class=\"dataframe\">\n",
       "  <thead>\n",
       "    <tr style=\"text-align: right;\">\n",
       "      <th></th>\n",
       "      <th>total_bill</th>\n",
       "      <th>tip</th>\n",
       "      <th>size</th>\n",
       "      <th>price_per_person</th>\n",
       "      <th>sex_Male</th>\n",
       "      <th>smoker_Yes</th>\n",
       "      <th>day_Sat</th>\n",
       "      <th>day_Sun</th>\n",
       "      <th>day_Thur</th>\n",
       "      <th>time_Lunch</th>\n",
       "    </tr>\n",
       "  </thead>\n",
       "  <tbody>\n",
       "    <tr>\n",
       "      <th>1</th>\n",
       "      <td>16.99</td>\n",
       "      <td>1.01</td>\n",
       "      <td>2</td>\n",
       "      <td>8.495000</td>\n",
       "      <td>0</td>\n",
       "      <td>0</td>\n",
       "      <td>0</td>\n",
       "      <td>1</td>\n",
       "      <td>0</td>\n",
       "      <td>0</td>\n",
       "    </tr>\n",
       "    <tr>\n",
       "      <th>2</th>\n",
       "      <td>10.34</td>\n",
       "      <td>1.66</td>\n",
       "      <td>3</td>\n",
       "      <td>3.446667</td>\n",
       "      <td>1</td>\n",
       "      <td>0</td>\n",
       "      <td>0</td>\n",
       "      <td>1</td>\n",
       "      <td>0</td>\n",
       "      <td>0</td>\n",
       "    </tr>\n",
       "    <tr>\n",
       "      <th>3</th>\n",
       "      <td>21.01</td>\n",
       "      <td>3.50</td>\n",
       "      <td>3</td>\n",
       "      <td>7.003333</td>\n",
       "      <td>1</td>\n",
       "      <td>0</td>\n",
       "      <td>0</td>\n",
       "      <td>1</td>\n",
       "      <td>0</td>\n",
       "      <td>0</td>\n",
       "    </tr>\n",
       "    <tr>\n",
       "      <th>4</th>\n",
       "      <td>23.68</td>\n",
       "      <td>3.31</td>\n",
       "      <td>2</td>\n",
       "      <td>11.840000</td>\n",
       "      <td>1</td>\n",
       "      <td>0</td>\n",
       "      <td>0</td>\n",
       "      <td>1</td>\n",
       "      <td>0</td>\n",
       "      <td>0</td>\n",
       "    </tr>\n",
       "    <tr>\n",
       "      <th>5</th>\n",
       "      <td>24.59</td>\n",
       "      <td>3.61</td>\n",
       "      <td>4</td>\n",
       "      <td>6.147500</td>\n",
       "      <td>0</td>\n",
       "      <td>0</td>\n",
       "      <td>0</td>\n",
       "      <td>1</td>\n",
       "      <td>0</td>\n",
       "      <td>0</td>\n",
       "    </tr>\n",
       "  </tbody>\n",
       "</table>\n",
       "</div>"
      ],
      "text/plain": [
       "   total_bill   tip  size  price_per_person  sex_Male  smoker_Yes  day_Sat  \\\n",
       "1       16.99  1.01     2          8.495000         0           0        0   \n",
       "2       10.34  1.66     3          3.446667         1           0        0   \n",
       "3       21.01  3.50     3          7.003333         1           0        0   \n",
       "4       23.68  3.31     2         11.840000         1           0        0   \n",
       "5       24.59  3.61     4          6.147500         0           0        0   \n",
       "\n",
       "   day_Sun  day_Thur  time_Lunch  \n",
       "1        1         0           0  \n",
       "2        1         0           0  \n",
       "3        1         0           0  \n",
       "4        1         0           0  \n",
       "5        1         0           0  "
      ]
     },
     "execution_count": 57,
     "metadata": {},
     "output_type": "execute_result"
    }
   ],
   "source": [
    "tips.head()"
   ]
  },
  {
   "cell_type": "code",
   "execution_count": 48,
   "id": "9a65664c-89e8-4497-b8ed-6a91a16e406a",
   "metadata": {},
   "outputs": [
    {
     "data": {
      "text/plain": [
       "total_bill          float64\n",
       "tip                 float64\n",
       "size                  int64\n",
       "price_per_person    float64\n",
       "sex_Male              uint8\n",
       "smoker_Yes            uint8\n",
       "day_Sat               uint8\n",
       "day_Sun               uint8\n",
       "day_Thur              uint8\n",
       "time_Lunch            uint8\n",
       "dtype: object"
      ]
     },
     "execution_count": 48,
     "metadata": {},
     "output_type": "execute_result"
    }
   ],
   "source": [
    "tips.dtypes"
   ]
  },
  {
   "cell_type": "code",
   "execution_count": 18,
   "id": "48bdc5c1-84e4-4e9a-b726-4fc9f02e29bb",
   "metadata": {},
   "outputs": [],
   "source": [
    "tips = prepare.dem_dummies(tips)"
   ]
  },
  {
   "cell_type": "code",
   "execution_count": 36,
   "id": "436f8370-9459-4e18-9cd2-6a66f9a5028f",
   "metadata": {},
   "outputs": [],
   "source": [
    "tips['price_per_person'] = tips.total_bill / tips['size']"
   ]
  },
  {
   "cell_type": "code",
   "execution_count": 10,
   "id": "7af67020-0f4f-4308-b94d-e30224e41516",
   "metadata": {},
   "outputs": [],
   "source": [
    "#the total bill and the party size will likely influnce tip the most"
   ]
  },
  {
   "cell_type": "code",
   "execution_count": 37,
   "id": "214c9ca7-8102-43ff-a62e-6424df89002e",
   "metadata": {},
   "outputs": [],
   "source": [
    "X_train = tips.drop(columns='tip')\n",
    "y_train = tips['tip']"
   ]
  },
  {
   "cell_type": "code",
   "execution_count": 38,
   "id": "0c49d8b0-e783-40ab-83b0-ae829dc8e134",
   "metadata": {},
   "outputs": [],
   "source": [
    "kbest = SelectKBest(f_regression,k=1)\n",
    "_ = kbest.fit(X_train, y_train)"
   ]
  },
  {
   "cell_type": "code",
   "execution_count": 39,
   "id": "d6e78261-b1c2-4a46-905c-bb275f3c1231",
   "metadata": {},
   "outputs": [
    {
     "data": {
      "text/plain": [
       "array([2.03357723e+02, 7.61754260e+01, 3.32132566e+01, 1.92615456e+00,\n",
       "       8.50601355e-03, 1.88381326e-03, 3.84838990e+00, 2.24530209e+00,\n",
       "       3.63381548e+00])"
      ]
     },
     "execution_count": 39,
     "metadata": {},
     "output_type": "execute_result"
    }
   ],
   "source": [
    "kbest.scores_"
   ]
  },
  {
   "cell_type": "code",
   "execution_count": 40,
   "id": "808cc5bf-9db6-48e7-a2a4-f8a5e2d59910",
   "metadata": {},
   "outputs": [
    {
     "data": {
      "text/plain": [
       "array([6.69247065e-34, 4.30054333e-16, 2.50210155e-08, 1.66456235e-01,\n",
       "       9.26593152e-01, 9.65416142e-01, 5.09401215e-02, 1.35324008e-01,\n",
       "       5.78015348e-02])"
      ]
     },
     "execution_count": 40,
     "metadata": {},
     "output_type": "execute_result"
    }
   ],
   "source": [
    "kbest.pvalues_"
   ]
  },
  {
   "cell_type": "code",
   "execution_count": 41,
   "id": "2d0dada2-6051-4d3d-9039-324b2780b5f6",
   "metadata": {},
   "outputs": [
    {
     "data": {
      "text/plain": [
       "Index(['total_bill'], dtype='object')"
      ]
     },
     "execution_count": 41,
     "metadata": {},
     "output_type": "execute_result"
    }
   ],
   "source": [
    "X_train.columns[kbest.get_support()]"
   ]
  },
  {
   "cell_type": "code",
   "execution_count": 49,
   "id": "b9e46cb3-9dc8-4a5a-b777-5bb4e4cde906",
   "metadata": {},
   "outputs": [],
   "source": [
    "def select_kbest(X, y, k):\n",
    "    \"\"\"\n",
    "    Select the top k features from X based on their correlation with y using the f_regression method.\n",
    "    \"\"\"\n",
    "    selector = SelectKBest(f_regression, k=k)  # Create a SelectKBest object with the f_regression method and k as input\n",
    "    selector.fit(X, y)  # Fit the selector to the data\n",
    "    mask = selector.get_support()  # Get a mask of the selected features\n",
    "    selected_features = []  # Create an empty list to store the names of the selected features\n",
    "    for bool, feature in zip(mask, X.columns):  # Loop through the mask and the columns of X\n",
    "        if bool:  # If the feature is selected\n",
    "            selected_features.append(feature)  # Add the name of the feature to the selected_features list\n",
    "    return selected_features  # Return the list of selected features"
   ]
  },
  {
   "cell_type": "code",
   "execution_count": 50,
   "id": "eeda0811-796c-4d9f-b0c7-7c7ea60a8320",
   "metadata": {},
   "outputs": [],
   "source": [
    "def rfe(X, y, k):\n",
    "    \"\"\"\n",
    "    Perform Recursive Feature Elimination to select the top k features from X based on their correlation with y.\n",
    "    \"\"\"\n",
    "    estimator = LinearRegression()  # Create a LinearRegression object as the estimator\n",
    "    selector = RFE(estimator, n_features_to_select=k)  # Create an RFE object with k as the number of features to select\n",
    "    selector.fit(X, y)  # Fit the selector to the data\n",
    "    mask = selector.support_  # Get a mask of the selected features\n",
    "    selected_features = []  # Create an empty list to store the names of the selected features\n",
    "    for bool, feature in zip(mask, X.columns):  # Loop through the mask and the columns of X\n",
    "        if bool:  # If the feature is selected\n",
    "            selected_features.append(feature)  # Add the name of the feature to the selected_features list\n",
    "    return selected_features  # Return the list of selected features"
   ]
  },
  {
   "cell_type": "code",
   "execution_count": 42,
   "id": "53b0b7e6-ed32-4378-a834-c1b4de9d7b9c",
   "metadata": {},
   "outputs": [],
   "source": [
    "swiss = data('swiss')"
   ]
  },
  {
   "cell_type": "code",
   "execution_count": 46,
   "id": "4980969b-410f-42d3-bae4-fe59a85d5ed2",
   "metadata": {},
   "outputs": [
    {
     "data": {
      "text/html": [
       "<div>\n",
       "<style scoped>\n",
       "    .dataframe tbody tr th:only-of-type {\n",
       "        vertical-align: middle;\n",
       "    }\n",
       "\n",
       "    .dataframe tbody tr th {\n",
       "        vertical-align: top;\n",
       "    }\n",
       "\n",
       "    .dataframe thead th {\n",
       "        text-align: right;\n",
       "    }\n",
       "</style>\n",
       "<table border=\"1\" class=\"dataframe\">\n",
       "  <thead>\n",
       "    <tr style=\"text-align: right;\">\n",
       "      <th></th>\n",
       "      <th>Fertility</th>\n",
       "      <th>Agriculture</th>\n",
       "      <th>Examination</th>\n",
       "      <th>Education</th>\n",
       "      <th>Catholic</th>\n",
       "      <th>Infant.Mortality</th>\n",
       "    </tr>\n",
       "  </thead>\n",
       "  <tbody>\n",
       "    <tr>\n",
       "      <th>Courtelary</th>\n",
       "      <td>80.2</td>\n",
       "      <td>17.0</td>\n",
       "      <td>15</td>\n",
       "      <td>12</td>\n",
       "      <td>9.96</td>\n",
       "      <td>22.2</td>\n",
       "    </tr>\n",
       "    <tr>\n",
       "      <th>Delemont</th>\n",
       "      <td>83.1</td>\n",
       "      <td>45.1</td>\n",
       "      <td>6</td>\n",
       "      <td>9</td>\n",
       "      <td>84.84</td>\n",
       "      <td>22.2</td>\n",
       "    </tr>\n",
       "    <tr>\n",
       "      <th>Franches-Mnt</th>\n",
       "      <td>92.5</td>\n",
       "      <td>39.7</td>\n",
       "      <td>5</td>\n",
       "      <td>5</td>\n",
       "      <td>93.40</td>\n",
       "      <td>20.2</td>\n",
       "    </tr>\n",
       "    <tr>\n",
       "      <th>Moutier</th>\n",
       "      <td>85.8</td>\n",
       "      <td>36.5</td>\n",
       "      <td>12</td>\n",
       "      <td>7</td>\n",
       "      <td>33.77</td>\n",
       "      <td>20.3</td>\n",
       "    </tr>\n",
       "    <tr>\n",
       "      <th>Neuveville</th>\n",
       "      <td>76.9</td>\n",
       "      <td>43.5</td>\n",
       "      <td>17</td>\n",
       "      <td>15</td>\n",
       "      <td>5.16</td>\n",
       "      <td>20.6</td>\n",
       "    </tr>\n",
       "  </tbody>\n",
       "</table>\n",
       "</div>"
      ],
      "text/plain": [
       "              Fertility  Agriculture  Examination  Education  Catholic  \\\n",
       "Courtelary         80.2         17.0           15         12      9.96   \n",
       "Delemont           83.1         45.1            6          9     84.84   \n",
       "Franches-Mnt       92.5         39.7            5          5     93.40   \n",
       "Moutier            85.8         36.5           12          7     33.77   \n",
       "Neuveville         76.9         43.5           17         15      5.16   \n",
       "\n",
       "              Infant.Mortality  \n",
       "Courtelary                22.2  \n",
       "Delemont                  22.2  \n",
       "Franches-Mnt              20.2  \n",
       "Moutier                   20.3  \n",
       "Neuveville                20.6  "
      ]
     },
     "execution_count": 46,
     "metadata": {},
     "output_type": "execute_result"
    }
   ],
   "source": [
    "swiss.head()"
   ]
  },
  {
   "cell_type": "code",
   "execution_count": 53,
   "id": "b8910207-36ac-4c66-b149-185f68383aa4",
   "metadata": {},
   "outputs": [
    {
     "data": {
      "text/plain": [
       "['Examination', 'Education', 'Catholic']"
      ]
     },
     "execution_count": 53,
     "metadata": {},
     "output_type": "execute_result"
    }
   ],
   "source": [
    "select_kbest(swiss.drop(columns='Fertility'), swiss.Fertility, 3)"
   ]
  },
  {
   "cell_type": "code",
   "execution_count": 56,
   "id": "35f6c2d3-121c-45f8-9967-e6f7f1de1213",
   "metadata": {},
   "outputs": [
    {
     "data": {
      "text/plain": [
       "['Examination', 'Education', 'Infant.Mortality']"
      ]
     },
     "execution_count": 56,
     "metadata": {},
     "output_type": "execute_result"
    }
   ],
   "source": [
    "rfe(swiss.drop(columns='Fertility'), swiss.Fertility, 3)"
   ]
  },
  {
   "cell_type": "code",
   "execution_count": null,
   "id": "7c923bd4-98f6-4b6e-a54d-2cfb9cb86b99",
   "metadata": {},
   "outputs": [],
   "source": [
    "tip"
   ]
  }
 ],
 "metadata": {
  "kernelspec": {
   "display_name": "Python 3 (ipykernel)",
   "language": "python",
   "name": "python3"
  },
  "language_info": {
   "codemirror_mode": {
    "name": "ipython",
    "version": 3
   },
   "file_extension": ".py",
   "mimetype": "text/x-python",
   "name": "python",
   "nbconvert_exporter": "python",
   "pygments_lexer": "ipython3",
   "version": "3.9.13"
  }
 },
 "nbformat": 4,
 "nbformat_minor": 5
}
