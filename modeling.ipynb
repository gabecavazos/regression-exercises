{
 "cells": [
  {
   "cell_type": "code",
   "execution_count": 9,
   "id": "1f37ce53-2fcf-4bfe-a431-6bacfa1f2d92",
   "metadata": {},
   "outputs": [],
   "source": [
    "import pandas as pd\n",
    "import numpy as np\n",
    "import wrangle_model as wrangle\n",
    "import matplotlib.pyplot as plt\n",
    "import seaborn as sns\n",
    "\n",
    "# modeling methods\n",
    "from sklearn.metrics import mean_squared_error\n",
    "from sklearn.linear_model import LinearRegression, LassoLars, TweedieRegressor\n",
    "from sklearn.preprocessing import PolynomialFeatures\n",
    "from sklearn.metrics import explained_variance_score\n",
    "from sklearn.model_selection import train_test_split\n"
   ]
  },
  {
   "cell_type": "code",
   "execution_count": 6,
   "id": "9b5f414f-de16-43f2-96ba-4697d99f4937",
   "metadata": {},
   "outputs": [],
   "source": [
    "golf = pd.read_clipboard()"
   ]
  },
  {
   "cell_type": "code",
   "execution_count": 7,
   "id": "0316e6fd-8368-4010-b46a-7b4e58ac12ee",
   "metadata": {},
   "outputs": [
    {
     "data": {
      "text/html": [
       "<div>\n",
       "<style scoped>\n",
       "    .dataframe tbody tr th:only-of-type {\n",
       "        vertical-align: middle;\n",
       "    }\n",
       "\n",
       "    .dataframe tbody tr th {\n",
       "        vertical-align: top;\n",
       "    }\n",
       "\n",
       "    .dataframe thead th {\n",
       "        text-align: right;\n",
       "    }\n",
       "</style>\n",
       "<table border=\"1\" class=\"dataframe\">\n",
       "  <thead>\n",
       "    <tr style=\"text-align: right;\">\n",
       "      <th></th>\n",
       "      <th>POS</th>\n",
       "      <th>PLAYER</th>\n",
       "      <th>R1</th>\n",
       "      <th>R2</th>\n",
       "      <th>R3</th>\n",
       "      <th>R4</th>\n",
       "      <th>TOTAL SCORE</th>\n",
       "      <th>TOTAL PAR</th>\n",
       "    </tr>\n",
       "  </thead>\n",
       "  <tbody>\n",
       "    <tr>\n",
       "      <th>0</th>\n",
       "      <td>1</td>\n",
       "      <td>S Scheffler</td>\n",
       "      <td>69</td>\n",
       "      <td>67</td>\n",
       "      <td>71</td>\n",
       "      <td>71</td>\n",
       "      <td>278</td>\n",
       "      <td>-10</td>\n",
       "    </tr>\n",
       "    <tr>\n",
       "      <th>1</th>\n",
       "      <td>2</td>\n",
       "      <td>R McIlroy</td>\n",
       "      <td>73</td>\n",
       "      <td>73</td>\n",
       "      <td>71</td>\n",
       "      <td>64</td>\n",
       "      <td>281</td>\n",
       "      <td>-7</td>\n",
       "    </tr>\n",
       "    <tr>\n",
       "      <th>2</th>\n",
       "      <td>T3</td>\n",
       "      <td>S Lowry</td>\n",
       "      <td>73</td>\n",
       "      <td>68</td>\n",
       "      <td>73</td>\n",
       "      <td>69</td>\n",
       "      <td>283</td>\n",
       "      <td>-5</td>\n",
       "    </tr>\n",
       "    <tr>\n",
       "      <th>3</th>\n",
       "      <td>T3</td>\n",
       "      <td>C Smith</td>\n",
       "      <td>68</td>\n",
       "      <td>74</td>\n",
       "      <td>68</td>\n",
       "      <td>73</td>\n",
       "      <td>283</td>\n",
       "      <td>-5</td>\n",
       "    </tr>\n",
       "    <tr>\n",
       "      <th>4</th>\n",
       "      <td>5</td>\n",
       "      <td>C Morikawa</td>\n",
       "      <td>73</td>\n",
       "      <td>70</td>\n",
       "      <td>74</td>\n",
       "      <td>67</td>\n",
       "      <td>284</td>\n",
       "      <td>-4</td>\n",
       "    </tr>\n",
       "  </tbody>\n",
       "</table>\n",
       "</div>"
      ],
      "text/plain": [
       "  POS       PLAYER  R1  R2  R3  R4  TOTAL SCORE TOTAL PAR\n",
       "0   1  S Scheffler  69  67  71  71          278       -10\n",
       "1   2    R McIlroy  73  73  71  64          281        -7\n",
       "2  T3      S Lowry  73  68  73  69          283        -5\n",
       "3  T3      C Smith  68  74  68  73          283        -5\n",
       "4   5   C Morikawa  73  70  74  67          284        -4"
      ]
     },
     "execution_count": 7,
     "metadata": {},
     "output_type": "execute_result"
    }
   ],
   "source": [
    "golf.head()"
   ]
  },
  {
   "cell_type": "code",
   "execution_count": 8,
   "id": "adb51db9-8359-44ab-8612-8412a51aaf91",
   "metadata": {},
   "outputs": [],
   "source": [
    "golf.to_csv('golf.csv')"
   ]
  },
  {
   "cell_type": "code",
   "execution_count": 28,
   "id": "bb210ab1-9042-4b0b-a7b6-9f156904da1e",
   "metadata": {},
   "outputs": [
    {
     "data": {
      "text/plain": [
       "pos             object\n",
       "player          object\n",
       "r1               int64\n",
       "r2               int64\n",
       "r3               int64\n",
       "r4               int64\n",
       "total_score      int64\n",
       "total_par       object\n",
       "baseline       float64\n",
       "dtype: object"
      ]
     },
     "execution_count": 28,
     "metadata": {},
     "output_type": "execute_result"
    }
   ],
   "source": [
    "golf.dtypes"
   ]
  },
  {
   "cell_type": "code",
   "execution_count": 29,
   "id": "2774347a-9828-4cc6-bf5d-9837112dc731",
   "metadata": {},
   "outputs": [
    {
     "data": {
      "text/plain": [
       "pos            0\n",
       "player         0\n",
       "r1             0\n",
       "r2             0\n",
       "r3             0\n",
       "r4             0\n",
       "total_score    0\n",
       "total_par      0\n",
       "baseline       0\n",
       "dtype: int64"
      ]
     },
     "execution_count": 29,
     "metadata": {},
     "output_type": "execute_result"
    }
   ],
   "source": [
    "golf.isna().sum()"
   ]
  },
  {
   "cell_type": "code",
   "execution_count": 26,
   "id": "c919b737-47ab-49db-a79f-9a87f07b7e73",
   "metadata": {},
   "outputs": [],
   "source": [
    "golf.columns = golf.columns.str.lower().str.replace(\" \",\"_\")"
   ]
  },
  {
   "cell_type": "code",
   "execution_count": 35,
   "id": "e785e49f-d758-4019-9633-4bb6d749311a",
   "metadata": {},
   "outputs": [],
   "source": [
    "golf.to_csv('golf.csv')"
   ]
  },
  {
   "cell_type": "code",
   "execution_count": 25,
   "id": "2192c439-a561-483a-8f4f-4a77a23b8420",
   "metadata": {},
   "outputs": [],
   "source": [
    "golf['baseline'] = golf.total_score.mean()"
   ]
  },
  {
   "cell_type": "code",
   "execution_count": 32,
   "id": "e154ba33-6223-474a-91d8-7d3d2024c4c2",
   "metadata": {},
   "outputs": [],
   "source": [
    "def split_data(df, train_size=0.7, val_size=0.15, test_size=0.15, random_state=None):\n",
    "    \"\"\"\n",
    "    Splits a pandas DataFrame into three sets: train, validation, and test.\n",
    "    \n",
    "    Args:\n",
    "        df (pandas.DataFrame): The DataFrame to split.\n",
    "        train_size (float): The proportion of the data to use for the training set. Default is 0.7.\n",
    "        val_size (float): The proportion of the data to use for the validation set. Default is 0.15.\n",
    "        test_size (float): The proportion of the data to use for the test set. Default is 0.15.\n",
    "        random_state (int): The random seed to use for the train-test split.\n",
    "        \n",
    "    Returns:\n",
    "        Tuple of three pandas DataFrames: (train, val, test)\n",
    "    \"\"\"\n",
    "    # First, split the data into train and test sets\n",
    "    train_val, test = train_test_split(df, test_size=test_size, random_state=random_state)\n",
    "    \n",
    "    # Next, split the train_val set into train and validation sets\n",
    "    train, val = train_test_split(train_val, test_size=val_size/(train_size+val_size), random_state=random_state)\n",
    "    \n",
    "    return train, val, test"
   ]
  },
  {
   "cell_type": "code",
   "execution_count": 42,
   "id": "20b6e2e6-f91c-40d2-8f60-0d4245fc4c73",
   "metadata": {},
   "outputs": [],
   "source": [
    "train, val, test = split_data(golf,random_state=21)"
   ]
  },
  {
   "cell_type": "code",
   "execution_count": 43,
   "id": "5024f8cd-2ad8-45b6-8276-7a5719c5e272",
   "metadata": {},
   "outputs": [
    {
     "data": {
      "text/plain": [
       "((36, 9), (8, 9), (8, 9))"
      ]
     },
     "execution_count": 43,
     "metadata": {},
     "output_type": "execute_result"
    }
   ],
   "source": [
    "train.shape, val.shape, test.shape"
   ]
  },
  {
   "cell_type": "code",
   "execution_count": 44,
   "id": "7468682d-268f-4bed-b2e8-dd262a1d1cf1",
   "metadata": {},
   "outputs": [
    {
     "data": {
      "text/plain": [
       "Index(['pos', 'player', 'r1', 'r2', 'r3', 'r4', 'total_score', 'total_par',\n",
       "       'baseline'],\n",
       "      dtype='object')"
      ]
     },
     "execution_count": 44,
     "metadata": {},
     "output_type": "execute_result"
    }
   ],
   "source": [
    "train.columns"
   ]
  },
  {
   "cell_type": "code",
   "execution_count": 45,
   "id": "ea65731f-a4cc-47d9-bd26-1c2a14b679eb",
   "metadata": {},
   "outputs": [],
   "source": [
    "X_train = train.drop(columns=['baseline','total_score','pos','player','total_par'])\n",
    "y_train = train['total_score']\n",
    "X_val = val.drop(columns=['baseline','total_score','pos','player','total_par'])\n",
    "y_val = val['total_score']\n",
    "X_test = test.drop(columns=['baseline','total_score','pos','player','total_par'])\n",
    "y_test = test['total_score']"
   ]
  },
  {
   "cell_type": "code",
   "execution_count": null,
   "id": "4e1329bd-4d01-4fae-93b7-3f4d36793f6d",
   "metadata": {},
   "outputs": [],
   "source": [
    "X_tr"
   ]
  }
 ],
 "metadata": {
  "kernelspec": {
   "display_name": "Python 3 (ipykernel)",
   "language": "python",
   "name": "python3"
  },
  "language_info": {
   "codemirror_mode": {
    "name": "ipython",
    "version": 3
   },
   "file_extension": ".py",
   "mimetype": "text/x-python",
   "name": "python",
   "nbconvert_exporter": "python",
   "pygments_lexer": "ipython3",
   "version": "3.9.13"
  }
 },
 "nbformat": 4,
 "nbformat_minor": 5
}
